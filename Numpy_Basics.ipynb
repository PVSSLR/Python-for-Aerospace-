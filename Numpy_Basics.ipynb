{
  "nbformat": 4,
  "nbformat_minor": 0,
  "metadata": {
    "colab": {
      "name": "Numpy_Basics.ipynb",
      "provenance": []
    },
    "kernelspec": {
      "name": "python3",
      "display_name": "Python 3"
    }
  },
  "cells": [
    {
      "cell_type": "markdown",
      "metadata": {
        "id": "HaSd820jCIN2",
        "colab_type": "text"
      },
      "source": [
        "# **NUMPY BASICS**\n",
        "\n"
      ]
    },
    {
      "cell_type": "markdown",
      "metadata": {
        "id": "5rXZe2RaJd92",
        "colab_type": "text"
      },
      "source": [
        "\n"
      ]
    },
    {
      "cell_type": "code",
      "metadata": {
        "id": "jLpWH-rmCVHv",
        "colab_type": "code",
        "colab": {}
      },
      "source": [
        "import numpy as np #importing the third party library \"Numpy\" a.k.a Numerical python  "
      ],
      "execution_count": 0,
      "outputs": []
    },
    {
      "cell_type": "markdown",
      "metadata": {
        "id": "ADPLh4PtC0YY",
        "colab_type": "text"
      },
      "source": [
        "***Create an array***"
      ]
    },
    {
      "cell_type": "code",
      "metadata": {
        "id": "Dh7VezURDGz3",
        "colab_type": "code",
        "colab": {
          "base_uri": "https://localhost:8080/",
          "height": 87
        },
        "outputId": "0a5f4cee-333a-4284-eff6-b1c196b6c4e1"
      },
      "source": [
        "array1d = np.array([1,2,3]) \n",
        "print(array1d)\n",
        "print(type(array1d))\n",
        "#we can also use string instead of integers\n",
        "array1d = np.array([\"a\",\"b\",\"c\"]) \n",
        "print(array1d)\n",
        "print(type(array1d))"
      ],
      "execution_count": 34,
      "outputs": [
        {
          "output_type": "stream",
          "text": [
            "[1 2 3]\n",
            "<class 'numpy.ndarray'>\n",
            "['a' 'b' 'c']\n"
          ],
          "name": "stdout"
        },
        {
          "output_type": "execute_result",
          "data": {
            "text/plain": [
              "numpy.ndarray"
            ]
          },
          "metadata": {
            "tags": []
          },
          "execution_count": 34
        }
      ]
    },
    {
      "cell_type": "markdown",
      "metadata": {
        "id": "wdGEE_kAEMdG",
        "colab_type": "text"
      },
      "source": [
        "***Range of array***"
      ]
    },
    {
      "cell_type": "code",
      "metadata": {
        "id": "XvzCa8F-DOk5",
        "colab_type": "code",
        "colab": {
          "base_uri": "https://localhost:8080/",
          "height": 70
        },
        "outputId": "e800823e-db43-4cb2-9e85-52acd7303be8"
      },
      "source": [
        "array_arange1 = np.arange(1,10,1) \n",
        "array_arange2 = np.arange(1,10,2)\n",
        "array_arange3 = np.arange(1,10,3)\n",
        "\n",
        "print(array_arange1)\n",
        "print(array_arange2)\n",
        "print(array_arange3)  "
      ],
      "execution_count": 4,
      "outputs": [
        {
          "output_type": "stream",
          "text": [
            "[1 2 3 4 5 6 7 8 9]\n",
            "[1 3 5 7 9]\n",
            "[1 4 7]\n"
          ],
          "name": "stdout"
        }
      ]
    },
    {
      "cell_type": "markdown",
      "metadata": {
        "id": "_spxve1ME53y",
        "colab_type": "text"
      },
      "source": [
        "***Generate random array***"
      ]
    },
    {
      "cell_type": "code",
      "metadata": {
        "id": "6i0f6Sv2EZ7l",
        "colab_type": "code",
        "colab": {
          "base_uri": "https://localhost:8080/",
          "height": 70
        },
        "outputId": "50869002-3ce6-4f8f-ccfc-fcfe1537e1ca"
      },
      "source": [
        "array_random1 = np.random.randint(0,10,2)\n",
        "array_random2 = np.random.randint(0,10,5)\n",
        "array_random3 = np.random.randint(0,10,10)\n",
        "print(array_random1)\n",
        "print(array_random2)\n",
        "print(array_random3)"
      ],
      "execution_count": 13,
      "outputs": [
        {
          "output_type": "stream",
          "text": [
            "[3 6]\n",
            "[9 3 1 4 7]\n",
            "[0 2 7 1 1 6 4 2 3 5]\n"
          ],
          "name": "stdout"
        }
      ]
    },
    {
      "cell_type": "markdown",
      "metadata": {
        "id": "fP87MFlLFFUZ",
        "colab_type": "text"
      },
      "source": [
        "***Zeros & Ones***"
      ]
    },
    {
      "cell_type": "code",
      "metadata": {
        "id": "_bGT9jKWFOFF",
        "colab_type": "code",
        "colab": {
          "base_uri": "https://localhost:8080/",
          "height": 283
        },
        "outputId": "61e1d8db-c6e4-4e17-de72-78ad5ce7483c"
      },
      "source": [
        "#Zeros\n",
        "zero1 = np.zeros(5)\n",
        "print(zero1)\n",
        "zero2 = np.zeros([3,3])\n",
        "print(zero2)\n",
        "zero3 = np.zeros([2,2],int)\n",
        "print(zero3)\n",
        "print(\"----------------------------------------------------\")\n",
        "print(\"----------------------------------------------------\")\n",
        "#Ones\n",
        "one1 = np.ones(5)\n",
        "print(one1)\n",
        "one2 = np.ones([3,3])\n",
        "print(one2)\n",
        "one3 = np.ones([2,2],int)\n",
        "print(one3)\n",
        "type(one3)\n",
        "\n"
      ],
      "execution_count": 22,
      "outputs": [
        {
          "output_type": "stream",
          "text": [
            "[0. 0. 0. 0. 0.]\n",
            "[[0. 0. 0.]\n",
            " [0. 0. 0.]\n",
            " [0. 0. 0.]]\n",
            "[[0 0]\n",
            " [0 0]]\n",
            "----------------------------------------------------\n",
            "----------------------------------------------------\n",
            "[1. 1. 1. 1. 1.]\n",
            "[[1. 1. 1.]\n",
            " [1. 1. 1.]\n",
            " [1. 1. 1.]]\n",
            "[[1 1]\n",
            " [1 1]]\n"
          ],
          "name": "stdout"
        },
        {
          "output_type": "execute_result",
          "data": {
            "text/plain": [
              "numpy.ndarray"
            ]
          },
          "metadata": {
            "tags": []
          },
          "execution_count": 22
        }
      ]
    },
    {
      "cell_type": "markdown",
      "metadata": {
        "id": "XM0hrEGkGwue",
        "colab_type": "text"
      },
      "source": [
        "***To find Maximum, minimum, mean***"
      ]
    },
    {
      "cell_type": "code",
      "metadata": {
        "id": "ZjHjNLrmFgC5",
        "colab_type": "code",
        "colab": {
          "base_uri": "https://localhost:8080/",
          "height": 105
        },
        "outputId": "70e3d5fe-0586-4b6e-868f-ae90b4607d7d"
      },
      "source": [
        "array_arange1 = np.arange(1,10,2) \n",
        "print(array_arange1)\n",
        "array_arange1.max()\n",
        "print(\"The max: \",array_arange1.max())\n",
        "print(\"The min: \",array_arange1.min())\n",
        "print(\"The mean: \",array_arange1.mean())\n",
        "print(\"The sum: \",array_arange1.sum())"
      ],
      "execution_count": 29,
      "outputs": [
        {
          "output_type": "stream",
          "text": [
            "[1 3 5 7 9]\n",
            "The max:  9\n",
            "The min:  1\n",
            "The mean:  5.0\n",
            "The sum:  25\n"
          ],
          "name": "stdout"
        }
      ]
    },
    {
      "cell_type": "markdown",
      "metadata": {
        "id": "DGn0eZXaIKfq",
        "colab_type": "text"
      },
      "source": [
        "***Slice***"
      ]
    },
    {
      "cell_type": "code",
      "metadata": {
        "id": "_3_sJV9BHcIO",
        "colab_type": "code",
        "colab": {
          "base_uri": "https://localhost:8080/",
          "height": 158
        },
        "outputId": "ac4b83cb-8253-43d8-ea0f-099ae703076a"
      },
      "source": [
        "print(array_arange1)\n",
        "print(array_arange1[0])\n",
        "print(array_arange1[1])\n",
        "print(array_arange1[2])\n",
        "print(array_arange1[3])\n",
        "print(array_arange1[0:4])\n",
        "print(array_arange1[:4])\n",
        "print(array_arange1[:])"
      ],
      "execution_count": 7,
      "outputs": [
        {
          "output_type": "stream",
          "text": [
            "[1 2 3 4 5 6 7 8 9]\n",
            "1\n",
            "2\n",
            "3\n",
            "4\n",
            "[1 2 3 4]\n",
            "[1 2 3 4]\n",
            "[1 2 3 4 5 6 7 8 9]\n"
          ],
          "name": "stdout"
        }
      ]
    },
    {
      "cell_type": "code",
      "metadata": {
        "id": "2MeTHaMEIaHG",
        "colab_type": "code",
        "colab": {}
      },
      "source": [
        ""
      ],
      "execution_count": 0,
      "outputs": []
    }
  ]
}