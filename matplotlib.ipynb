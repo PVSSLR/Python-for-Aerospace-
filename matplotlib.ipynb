{
  "nbformat": 4,
  "nbformat_minor": 0,
  "metadata": {
    "colab": {
      "name": "matplotlib.ipynb",
      "provenance": [],
      "toc_visible": true,
      "authorship_tag": "ABX9TyMgGpZAG52YPirNE8DJfeQf",
      "include_colab_link": true
    },
    "kernelspec": {
      "name": "python3",
      "display_name": "Python 3"
    }
  },
  "cells": [
    {
      "cell_type": "markdown",
      "metadata": {
        "id": "view-in-github",
        "colab_type": "text"
      },
      "source": [
        "<a href=\"https://colab.research.google.com/github/PVSSLR/Python-for-Aerospace-/blob/master/matplotlib.ipynb\" target=\"_parent\"><img src=\"https://colab.research.google.com/assets/colab-badge.svg\" alt=\"Open In Colab\"/></a>"
      ]
    },
    {
      "cell_type": "markdown",
      "metadata": {
        "id": "LDvCwYBNXJkH",
        "colab_type": "text"
      },
      "source": [
        "**MATPLOTLIB**\n",
        "Used to plot graphs and various other things"
      ]
    },
    {
      "cell_type": "code",
      "metadata": {
        "id": "n4CwP8TYOedN",
        "colab_type": "code",
        "colab": {}
      },
      "source": [
        "import numpy as np \n",
        "import matplotlib.pyplot as plt \n",
        "  "
      ],
      "execution_count": 0,
      "outputs": []
    },
    {
      "cell_type": "code",
      "metadata": {
        "id": "wktY8r1tO-TK",
        "colab_type": "code",
        "colab": {}
      },
      "source": [
        "from PIL import Image\n",
        " "
      ],
      "execution_count": 0,
      "outputs": []
    },
    {
      "cell_type": "markdown",
      "metadata": {
        "id": "Gic79TznXXvH",
        "colab_type": "text"
      },
      "source": [
        "Initially we are importing matplotlib, PIL for images "
      ]
    },
    {
      "cell_type": "code",
      "metadata": {
        "id": "epfoGrXxPGbn",
        "colab_type": "code",
        "colab": {}
      },
      "source": [
        "img = Image.open('/content/squid.jfif')\n"
      ],
      "execution_count": 0,
      "outputs": []
    },
    {
      "cell_type": "code",
      "metadata": {
        "id": "oaxxO93DQU9c",
        "colab_type": "code",
        "colab": {}
      },
      "source": [
        "print(img) #printing images"
      ],
      "execution_count": 0,
      "outputs": []
    },
    {
      "cell_type": "code",
      "metadata": {
        "id": "BlSgbg1AQVzq",
        "colab_type": "code",
        "colab": {}
      },
      "source": [
        "type(img) #to know about the data"
      ],
      "execution_count": 0,
      "outputs": []
    },
    {
      "cell_type": "code",
      "metadata": {
        "id": "4SWCFTU2QjId",
        "colab_type": "code",
        "colab": {}
      },
      "source": [
        "img_array = np.asarray(img) #Converting into image"
      ],
      "execution_count": 0,
      "outputs": []
    },
    {
      "cell_type": "code",
      "metadata": {
        "id": "j8Gux_xTQ5Bc",
        "colab_type": "code",
        "colab": {}
      },
      "source": [
        "type(img_array)"
      ],
      "execution_count": 0,
      "outputs": []
    },
    {
      "cell_type": "code",
      "metadata": {
        "id": "QQRgZv3xQ76E",
        "colab_type": "code",
        "colab": {}
      },
      "source": [
        "img_array.shape #To check the shape (x,y,bands)"
      ],
      "execution_count": 0,
      "outputs": []
    },
    {
      "cell_type": "code",
      "metadata": {
        "id": "ZdIIYqWsQ-4T",
        "colab_type": "code",
        "colab": {}
      },
      "source": [
        "\n",
        "print(img_array)"
      ],
      "execution_count": 0,
      "outputs": []
    },
    {
      "cell_type": "code",
      "metadata": {
        "id": "xdEwSKQ0RHav",
        "colab_type": "code",
        "colab": {}
      },
      "source": [
        "img_red = img_array.copy()  #To copy the image"
      ],
      "execution_count": 0,
      "outputs": []
    },
    {
      "cell_type": "code",
      "metadata": {
        "id": "KODyv3-CRgQJ",
        "colab_type": "code",
        "colab": {}
      },
      "source": [
        "plt.imshow(img_red)     #plotting the image \n"
      ],
      "execution_count": 0,
      "outputs": []
    },
    {
      "cell_type": "code",
      "metadata": {
        "id": "D6Z4D6ulRnO5",
        "colab_type": "code",
        "colab": {}
      },
      "source": [
        "plt.imshow(img_red[:, :, 1])   #changing the image bands"
      ],
      "execution_count": 0,
      "outputs": []
    },
    {
      "cell_type": "code",
      "metadata": {
        "id": "sLR1H2KTSQTk",
        "colab_type": "code",
        "colab": {}
      },
      "source": [
        "plt.imshow(img_red[:, :, 1],cmap='gray')"
      ],
      "execution_count": 0,
      "outputs": []
    },
    {
      "cell_type": "code",
      "metadata": {
        "id": "vhvAp2FBS1gq",
        "colab_type": "code",
        "colab": {}
      },
      "source": [
        ""
      ],
      "execution_count": 0,
      "outputs": []
    },
    {
      "cell_type": "code",
      "metadata": {
        "id": "o9abiY_yTXuC",
        "colab_type": "code",
        "colab": {}
      },
      "source": [
        ""
      ],
      "execution_count": 0,
      "outputs": []
    }
  ]
}